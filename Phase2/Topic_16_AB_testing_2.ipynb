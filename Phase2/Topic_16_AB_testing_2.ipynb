{
 "cells": [
  {
   "cell_type": "markdown",
   "metadata": {
    "toc": true
   },
   "source": [
    "<h1>Table of Contents<span class=\"tocSkip\"></span></h1>\n",
    "<div class=\"toc\"><ul class=\"toc-item\"><li><span><a href=\"#Objectives\" data-toc-modified-id=\"Objectives-1\"><span class=\"toc-item-num\">1&nbsp;&nbsp;</span>Objectives</a></span></li><li><span><a href=\"#Example-Together\" data-toc-modified-id=\"Example-Together-2\"><span class=\"toc-item-num\">2&nbsp;&nbsp;</span>Example Together</a></span><ul class=\"toc-item\"><li><span><a href=\"#Question\" data-toc-modified-id=\"Question-2.1\"><span class=\"toc-item-num\">2.1&nbsp;&nbsp;</span>Question</a></span></li><li><span><a href=\"#Considerations\" data-toc-modified-id=\"Considerations-2.2\"><span class=\"toc-item-num\">2.2&nbsp;&nbsp;</span>Considerations</a></span></li><li><span><a href=\"#Loading-the-Data\" data-toc-modified-id=\"Loading-the-Data-2.3\"><span class=\"toc-item-num\">2.3&nbsp;&nbsp;</span>Loading the Data</a></span></li><li><span><a href=\"#Some-Exploration-to-Better-Understand-our-Data\" data-toc-modified-id=\"Some-Exploration-to-Better-Understand-our-Data-2.4\"><span class=\"toc-item-num\">2.4&nbsp;&nbsp;</span>Some Exploration to Better Understand our Data</a></span></li><li><span><a href=\"#Experimental-Setup\" data-toc-modified-id=\"Experimental-Setup-2.5\"><span class=\"toc-item-num\">2.5&nbsp;&nbsp;</span>Experimental Setup</a></span><ul class=\"toc-item\"><li><span><a href=\"#What-Test-Would-Make-Sense?\" data-toc-modified-id=\"What-Test-Would-Make-Sense?-2.5.1\"><span class=\"toc-item-num\">2.5.1&nbsp;&nbsp;</span>What Test Would Make Sense?</a></span></li><li><span><a href=\"#The-Hypotheses\" data-toc-modified-id=\"The-Hypotheses-2.5.2\"><span class=\"toc-item-num\">2.5.2&nbsp;&nbsp;</span>The Hypotheses</a></span></li><li><span><a href=\"#Setting-a-Threshold\" data-toc-modified-id=\"Setting-a-Threshold-2.5.3\"><span class=\"toc-item-num\">2.5.3&nbsp;&nbsp;</span>Setting a Threshold</a></span></li></ul></li><li><span><a href=\"#$\\chi^2$-Test\" data-toc-modified-id=\"$\\chi^2$-Test-2.6\"><span class=\"toc-item-num\">2.6&nbsp;&nbsp;</span>$\\chi^2$ Test</a></span><ul class=\"toc-item\"><li><span><a href=\"#Setup-the-Data\" data-toc-modified-id=\"Setup-the-Data-2.6.1\"><span class=\"toc-item-num\">2.6.1&nbsp;&nbsp;</span>Setup the Data</a></span></li><li><span><a href=\"#Calculation\" data-toc-modified-id=\"Calculation-2.6.2\"><span class=\"toc-item-num\">2.6.2&nbsp;&nbsp;</span>Calculation</a></span></li></ul></li><li><span><a href=\"#Interpretation\" data-toc-modified-id=\"Interpretation-2.7\"><span class=\"toc-item-num\">2.7&nbsp;&nbsp;</span>Interpretation</a></span></li></ul></li><li><span><a href=\"#Exercise\" data-toc-modified-id=\"Exercise-3\"><span class=\"toc-item-num\">3&nbsp;&nbsp;</span>Exercise</a></span></li></ul></div>"
   ]
  },
  {
   "cell_type": "code",
   "execution_count": 1,
   "metadata": {
    "_cell_guid": "b1076dfc-b9ad-4769-8c92-a6c4dae69d19",
    "_uuid": "8f2839f25d086af736a60e9eeb907d3b93b6e0e5"
   },
   "outputs": [],
   "source": [
    "import numpy as np\n",
    "import pandas as pd\n",
    "\n",
    "from scipy import stats\n",
    "import seaborn as sns"
   ]
  },
  {
   "cell_type": "markdown",
   "metadata": {
    "heading_collapsed": true
   },
   "source": [
    "# Objectives"
   ]
  },
  {
   "cell_type": "markdown",
   "metadata": {
    "hidden": true
   },
   "source": [
    "- Conduct an A/B test in Python\n",
    "- Interpret the results of the A/B tests for a stakeholder"
   ]
  },
  {
   "cell_type": "markdown",
   "metadata": {
    "heading_collapsed": true
   },
   "source": [
    "# Example Together"
   ]
  },
  {
   "cell_type": "markdown",
   "metadata": {
    "heading_collapsed": true,
    "hidden": true
   },
   "source": [
    "## Question"
   ]
  },
  {
   "cell_type": "markdown",
   "metadata": {
    "hidden": true
   },
   "source": [
    "We have data about whether customers completed sales transactions, segregated by the type of ad banners to which the customers were exposed.\n",
    "\n",
    "The question we want to answer is whether there was any difference in sales \"conversions\" between desktop customers who saw the sneakers banner and desktop customers who saw the accessories banner in the month of May 2019."
   ]
  },
  {
   "cell_type": "markdown",
   "metadata": {
    "heading_collapsed": true,
    "hidden": true
   },
   "source": [
    "## Considerations"
   ]
  },
  {
   "cell_type": "markdown",
   "metadata": {
    "hidden": true
   },
   "source": [
    "What would we need to consider when designing our experiment?"
   ]
  },
  {
   "cell_type": "markdown",
   "metadata": {
    "hidden": true
   },
   "source": [
    "Might include:\n",
    "\n",
    "- Who is it that we're including in our test?\n",
    "- How big of an effect would make it \"worth\" us seeing?\n",
    "    - This can affect sample size\n",
    "    - This can give context of a statistically significant result\n",
    "- Other biases or \"gotchas\""
   ]
  },
  {
   "cell_type": "markdown",
   "metadata": {
    "heading_collapsed": true,
    "hidden": true
   },
   "source": [
    "## Loading the Data"
   ]
  },
  {
   "cell_type": "markdown",
   "metadata": {
    "hidden": true
   },
   "source": [
    "First let's download the data from [kaggle](https://www.kaggle.com/podsyp/how-to-do-product-analytics) via the release page of this repo: https://github.com/flatiron-school/ds-ab_testing/releases \n",
    "\n",
    "The code below will load it into our DataFrame:"
   ]
  },
  {
   "cell_type": "code",
   "execution_count": 2,
   "metadata": {
    "_cell_guid": "79c7e3d0-c299-4dcb-8224-4455121ee9b0",
    "_uuid": "d629ff2d2480ee46fbb7e2d37f6b5fab8052498a",
    "hidden": true
   },
   "outputs": [],
   "source": [
    "# This will download the data from online so it can take\n",
    "# some time (but relatively small download)\n",
    "\n",
    "df = pd.read_csv('https://github.com/flatiron-school/ds-ab_testing/releases/download/v1.2/products_small.csv')"
   ]
  },
  {
   "cell_type": "markdown",
   "metadata": {
    "hidden": true
   },
   "source": [
    "> Let's take a look while we're at it"
   ]
  },
  {
   "cell_type": "code",
   "execution_count": 3,
   "metadata": {
    "hidden": true
   },
   "outputs": [
    {
     "data": {
      "text/html": [
       "<div>\n",
       "<style scoped>\n",
       "    .dataframe tbody tr th:only-of-type {\n",
       "        vertical-align: middle;\n",
       "    }\n",
       "\n",
       "    .dataframe tbody tr th {\n",
       "        vertical-align: top;\n",
       "    }\n",
       "\n",
       "    .dataframe thead th {\n",
       "        text-align: right;\n",
       "    }\n",
       "</style>\n",
       "<table border=\"1\" class=\"dataframe\">\n",
       "  <thead>\n",
       "    <tr style=\"text-align: right;\">\n",
       "      <th></th>\n",
       "      <th>Unnamed: 0</th>\n",
       "      <th>order_id</th>\n",
       "      <th>user_id</th>\n",
       "      <th>page_id</th>\n",
       "      <th>product</th>\n",
       "      <th>site_version</th>\n",
       "      <th>time</th>\n",
       "      <th>title</th>\n",
       "      <th>target</th>\n",
       "    </tr>\n",
       "  </thead>\n",
       "  <tbody>\n",
       "    <tr>\n",
       "      <th>0</th>\n",
       "      <td>4122928</td>\n",
       "      <td>3e6c5e89fdddcaee0eed210ec2c9cadf</td>\n",
       "      <td>90d58d967eb72656e86059ec6f208092</td>\n",
       "      <td>2fdc16a09e0016555dd4da4a3fe84414</td>\n",
       "      <td>accessories</td>\n",
       "      <td>desktop</td>\n",
       "      <td>2019-03-06 08:42:47</td>\n",
       "      <td>banner_show</td>\n",
       "      <td>0</td>\n",
       "    </tr>\n",
       "    <tr>\n",
       "      <th>1</th>\n",
       "      <td>564306</td>\n",
       "      <td>feed6203517d3abf6aab13761633174b</td>\n",
       "      <td>08703dab1f004eabba25aacb7f0e5484</td>\n",
       "      <td>6b0a902b9b73d5a158d0119d6feb38ac</td>\n",
       "      <td>sneakers</td>\n",
       "      <td>mobile</td>\n",
       "      <td>2019-04-19 18:30:45</td>\n",
       "      <td>banner_show</td>\n",
       "      <td>0</td>\n",
       "    </tr>\n",
       "    <tr>\n",
       "      <th>2</th>\n",
       "      <td>1872289</td>\n",
       "      <td>e33d5d7941edc281646aa37763729771</td>\n",
       "      <td>bdf1d25697e21419901c94fabdafad15</td>\n",
       "      <td>9ddb7315c4357929931b48f2b3d11c62</td>\n",
       "      <td>company</td>\n",
       "      <td>mobile</td>\n",
       "      <td>2019-01-20 17:20:10</td>\n",
       "      <td>banner_show</td>\n",
       "      <td>0</td>\n",
       "    </tr>\n",
       "    <tr>\n",
       "      <th>3</th>\n",
       "      <td>3616779</td>\n",
       "      <td>7c4caa8d508fa7c3bbc25f35cdd9168a</td>\n",
       "      <td>8d2f23a732c9527d95678088a3bac122</td>\n",
       "      <td>1f86cd0bea31d54a5b511b42fd19401a</td>\n",
       "      <td>sneakers</td>\n",
       "      <td>mobile</td>\n",
       "      <td>2019-02-20 09:38:32</td>\n",
       "      <td>banner_show</td>\n",
       "      <td>0</td>\n",
       "    </tr>\n",
       "    <tr>\n",
       "      <th>4</th>\n",
       "      <td>5871482</td>\n",
       "      <td>12874b29bde8bbd43fb2b95735caf9e6</td>\n",
       "      <td>5a22604f8f31ae98ee1211ece3a02004</td>\n",
       "      <td>b533f7e2003418c63fd71471264c559a</td>\n",
       "      <td>sneakers</td>\n",
       "      <td>mobile</td>\n",
       "      <td>2019-04-24 09:19:02</td>\n",
       "      <td>banner_show</td>\n",
       "      <td>0</td>\n",
       "    </tr>\n",
       "  </tbody>\n",
       "</table>\n",
       "</div>"
      ],
      "text/plain": [
       "   Unnamed: 0                          order_id  \\\n",
       "0     4122928  3e6c5e89fdddcaee0eed210ec2c9cadf   \n",
       "1      564306  feed6203517d3abf6aab13761633174b   \n",
       "2     1872289  e33d5d7941edc281646aa37763729771   \n",
       "3     3616779  7c4caa8d508fa7c3bbc25f35cdd9168a   \n",
       "4     5871482  12874b29bde8bbd43fb2b95735caf9e6   \n",
       "\n",
       "                            user_id                           page_id  \\\n",
       "0  90d58d967eb72656e86059ec6f208092  2fdc16a09e0016555dd4da4a3fe84414   \n",
       "1  08703dab1f004eabba25aacb7f0e5484  6b0a902b9b73d5a158d0119d6feb38ac   \n",
       "2  bdf1d25697e21419901c94fabdafad15  9ddb7315c4357929931b48f2b3d11c62   \n",
       "3  8d2f23a732c9527d95678088a3bac122  1f86cd0bea31d54a5b511b42fd19401a   \n",
       "4  5a22604f8f31ae98ee1211ece3a02004  b533f7e2003418c63fd71471264c559a   \n",
       "\n",
       "       product site_version                 time        title  target  \n",
       "0  accessories      desktop  2019-03-06 08:42:47  banner_show       0  \n",
       "1     sneakers       mobile  2019-04-19 18:30:45  banner_show       0  \n",
       "2      company       mobile  2019-01-20 17:20:10  banner_show       0  \n",
       "3     sneakers       mobile  2019-02-20 09:38:32  banner_show       0  \n",
       "4     sneakers       mobile  2019-04-24 09:19:02  banner_show       0  "
      ]
     },
     "execution_count": 3,
     "metadata": {},
     "output_type": "execute_result"
    }
   ],
   "source": [
    "df.head()"
   ]
  },
  {
   "cell_type": "code",
   "execution_count": 4,
   "metadata": {
    "hidden": true,
    "scrolled": true
   },
   "outputs": [
    {
     "name": "stdout",
     "output_type": "stream",
     "text": [
      "<class 'pandas.core.frame.DataFrame'>\n",
      "RangeIndex: 1000000 entries, 0 to 999999\n",
      "Data columns (total 9 columns):\n",
      " #   Column        Non-Null Count    Dtype \n",
      "---  ------        --------------    ----- \n",
      " 0   Unnamed: 0    1000000 non-null  int64 \n",
      " 1   order_id      1000000 non-null  object\n",
      " 2   user_id       1000000 non-null  object\n",
      " 3   page_id       1000000 non-null  object\n",
      " 4   product       1000000 non-null  object\n",
      " 5   site_version  1000000 non-null  object\n",
      " 6   time          1000000 non-null  object\n",
      " 7   title         1000000 non-null  object\n",
      " 8   target        1000000 non-null  int64 \n",
      "dtypes: int64(2), object(7)\n",
      "memory usage: 68.7+ MB\n"
     ]
    }
   ],
   "source": [
    "df.info()"
   ]
  },
  {
   "cell_type": "markdown",
   "metadata": {
    "heading_collapsed": true,
    "hidden": true
   },
   "source": [
    "## Some Exploration to Better Understand our Data"
   ]
  },
  {
   "cell_type": "markdown",
   "metadata": {
    "hidden": true
   },
   "source": [
    "Lets's look at the different banner types:"
   ]
  },
  {
   "cell_type": "code",
   "execution_count": 5,
   "metadata": {
    "hidden": true,
    "scrolled": true
   },
   "outputs": [
    {
     "data": {
      "text/plain": [
       "clothes             210996\n",
       "company             203020\n",
       "sneakers            201298\n",
       "sports_nutrition    193200\n",
       "accessories         191486\n",
       "Name: product, dtype: int64"
      ]
     },
     "execution_count": 5,
     "metadata": {},
     "output_type": "execute_result"
    }
   ],
   "source": [
    "df[\"product\"].value_counts()"
   ]
  },
  {
   "cell_type": "code",
   "execution_count": 6,
   "metadata": {
    "hidden": true
   },
   "outputs": [
    {
     "data": {
      "text/plain": [
       "product           target\n",
       "accessories       0         186127\n",
       "                  1           5359\n",
       "clothes           0         197720\n",
       "                  1          13276\n",
       "company           0         203020\n",
       "sneakers          0         193375\n",
       "                  1           7923\n",
       "sports_nutrition  0         190363\n",
       "                  1           2837\n",
       "Name: target, dtype: int64"
      ]
     },
     "execution_count": 6,
     "metadata": {},
     "output_type": "execute_result"
    }
   ],
   "source": [
    "df.groupby('product')['target'].value_counts()"
   ]
  },
  {
   "cell_type": "markdown",
   "metadata": {
    "hidden": true
   },
   "source": [
    "Let's look at the range of time-stamps on these data:"
   ]
  },
  {
   "cell_type": "code",
   "execution_count": 7,
   "metadata": {
    "hidden": true,
    "scrolled": true
   },
   "outputs": [
    {
     "data": {
      "text/plain": [
       "'2019-01-01 00:00:25'"
      ]
     },
     "execution_count": 7,
     "metadata": {},
     "output_type": "execute_result"
    }
   ],
   "source": [
    "df[\"time\"].min()"
   ]
  },
  {
   "cell_type": "code",
   "execution_count": 8,
   "metadata": {
    "hidden": true
   },
   "outputs": [
    {
     "data": {
      "text/plain": [
       "'2019-05-31 23:59:21'"
      ]
     },
     "execution_count": 8,
     "metadata": {},
     "output_type": "execute_result"
    }
   ],
   "source": [
    "df[\"time\"].max()"
   ]
  },
  {
   "cell_type": "markdown",
   "metadata": {
    "hidden": true
   },
   "source": [
    "Let's check the counts of the different site_version values:"
   ]
  },
  {
   "cell_type": "code",
   "execution_count": 9,
   "metadata": {
    "hidden": true,
    "scrolled": true
   },
   "outputs": [
    {
     "data": {
      "text/plain": [
       "mobile     718521\n",
       "desktop    281479\n",
       "Name: site_version, dtype: int64"
      ]
     },
     "execution_count": 9,
     "metadata": {},
     "output_type": "execute_result"
    }
   ],
   "source": [
    "df[\"site_version\"].value_counts()"
   ]
  },
  {
   "cell_type": "markdown",
   "metadata": {},
   "source": [
    "And now check titles"
   ]
  },
  {
   "cell_type": "code",
   "execution_count": 10,
   "metadata": {
    "hidden": true
   },
   "outputs": [
    {
     "data": {
      "text/plain": [
       "banner_show     872275\n",
       "banner_click     98330\n",
       "order            29395\n",
       "Name: title, dtype: int64"
      ]
     },
     "execution_count": 10,
     "metadata": {},
     "output_type": "execute_result"
    }
   ],
   "source": [
    "df[\"title\"].value_counts()"
   ]
  },
  {
   "cell_type": "code",
   "execution_count": 11,
   "metadata": {},
   "outputs": [
    {
     "data": {
      "text/plain": [
       "(29395, 29395)"
      ]
     },
     "execution_count": 11,
     "metadata": {},
     "output_type": "execute_result"
    }
   ],
   "source": [
    "len(df[df['title'] == 'order']), sum(df['target'])"
   ]
  },
  {
   "cell_type": "code",
   "execution_count": 12,
   "metadata": {
    "hidden": true
   },
   "outputs": [
    {
     "data": {
      "text/html": [
       "<div>\n",
       "<style scoped>\n",
       "    .dataframe tbody tr th:only-of-type {\n",
       "        vertical-align: middle;\n",
       "    }\n",
       "\n",
       "    .dataframe tbody tr th {\n",
       "        vertical-align: top;\n",
       "    }\n",
       "\n",
       "    .dataframe thead th {\n",
       "        text-align: right;\n",
       "    }\n",
       "</style>\n",
       "<table border=\"1\" class=\"dataframe\">\n",
       "  <thead>\n",
       "    <tr style=\"text-align: right;\">\n",
       "      <th></th>\n",
       "      <th>target</th>\n",
       "    </tr>\n",
       "    <tr>\n",
       "      <th>title</th>\n",
       "      <th></th>\n",
       "    </tr>\n",
       "  </thead>\n",
       "  <tbody>\n",
       "    <tr>\n",
       "      <th>banner_click</th>\n",
       "      <td>0</td>\n",
       "    </tr>\n",
       "    <tr>\n",
       "      <th>banner_show</th>\n",
       "      <td>0</td>\n",
       "    </tr>\n",
       "    <tr>\n",
       "      <th>order</th>\n",
       "      <td>1</td>\n",
       "    </tr>\n",
       "  </tbody>\n",
       "</table>\n",
       "</div>"
      ],
      "text/plain": [
       "              target\n",
       "title               \n",
       "banner_click       0\n",
       "banner_show        0\n",
       "order              1"
      ]
     },
     "execution_count": 12,
     "metadata": {},
     "output_type": "execute_result"
    }
   ],
   "source": [
    "df.groupby('title').agg({'target': 'mean'})"
   ]
  },
  {
   "cell_type": "markdown",
   "metadata": {
    "heading_collapsed": true,
    "hidden": true
   },
   "source": [
    "## Experimental Setup"
   ]
  },
  {
   "cell_type": "markdown",
   "metadata": {
    "hidden": true
   },
   "source": [
    "We need to filter by site_version, time, and product:"
   ]
  },
  {
   "cell_type": "code",
   "execution_count": 13,
   "metadata": {
    "hidden": true
   },
   "outputs": [],
   "source": [
    "df_AB = df.loc[(df[\"site_version\"] == \"desktop\")&\n",
    "               (df[\"time\"] >= \"2019-05-01\")&\n",
    "               ((df[\"product\"] == \"sneakers\") | (df[\"product\"] == \"accessories\"))]"
   ]
  },
  {
   "cell_type": "code",
   "execution_count": 14,
   "metadata": {
    "hidden": true,
    "scrolled": false
   },
   "outputs": [
    {
     "data": {
      "text/html": [
       "<div>\n",
       "<style scoped>\n",
       "    .dataframe tbody tr th:only-of-type {\n",
       "        vertical-align: middle;\n",
       "    }\n",
       "\n",
       "    .dataframe tbody tr th {\n",
       "        vertical-align: top;\n",
       "    }\n",
       "\n",
       "    .dataframe thead th {\n",
       "        text-align: right;\n",
       "    }\n",
       "</style>\n",
       "<table border=\"1\" class=\"dataframe\">\n",
       "  <thead>\n",
       "    <tr style=\"text-align: right;\">\n",
       "      <th></th>\n",
       "      <th>Unnamed: 0</th>\n",
       "      <th>order_id</th>\n",
       "      <th>user_id</th>\n",
       "      <th>page_id</th>\n",
       "      <th>product</th>\n",
       "      <th>site_version</th>\n",
       "      <th>time</th>\n",
       "      <th>title</th>\n",
       "      <th>target</th>\n",
       "    </tr>\n",
       "  </thead>\n",
       "  <tbody>\n",
       "    <tr>\n",
       "      <th>999904</th>\n",
       "      <td>5738290</td>\n",
       "      <td>ecfe9da2dbea255f05b2f526a4c663a7</td>\n",
       "      <td>cd7598ba5798ad6bd3f5a667ae4c217a</td>\n",
       "      <td>644ad50dd900d6735d8ceb15b71d50f8</td>\n",
       "      <td>accessories</td>\n",
       "      <td>desktop</td>\n",
       "      <td>2019-05-01 23:01:05</td>\n",
       "      <td>banner_show</td>\n",
       "      <td>0</td>\n",
       "    </tr>\n",
       "    <tr>\n",
       "      <th>999908</th>\n",
       "      <td>7885931</td>\n",
       "      <td>8c28b45ff7fbb5d5df0b7670183689db</td>\n",
       "      <td>2f28106a4db2babcfde1c4095c805632</td>\n",
       "      <td>a3d2de7675556553a5f08e4c88d2c228</td>\n",
       "      <td>sneakers</td>\n",
       "      <td>desktop</td>\n",
       "      <td>2019-05-26 11:19:09</td>\n",
       "      <td>order</td>\n",
       "      <td>1</td>\n",
       "    </tr>\n",
       "    <tr>\n",
       "      <th>999915</th>\n",
       "      <td>8099155</td>\n",
       "      <td>c613db2f19c7285f101196062c178490</td>\n",
       "      <td>97473368941b89c4716c4f389e9b8bd7</td>\n",
       "      <td>a3d2de7675556553a5f08e4c88d2c228</td>\n",
       "      <td>sneakers</td>\n",
       "      <td>desktop</td>\n",
       "      <td>2019-05-11 09:04:46</td>\n",
       "      <td>order</td>\n",
       "      <td>1</td>\n",
       "    </tr>\n",
       "    <tr>\n",
       "      <th>999930</th>\n",
       "      <td>6690689</td>\n",
       "      <td>6f7f32ecf6790e4eb06384b479f43162</td>\n",
       "      <td>73f403b4843c70c41c0db294ee479582</td>\n",
       "      <td>13f395d7c86ef276f7ce52a557fd3491</td>\n",
       "      <td>accessories</td>\n",
       "      <td>desktop</td>\n",
       "      <td>2019-05-09 09:17:24</td>\n",
       "      <td>banner_show</td>\n",
       "      <td>0</td>\n",
       "    </tr>\n",
       "    <tr>\n",
       "      <th>999999</th>\n",
       "      <td>7650805</td>\n",
       "      <td>af3a19fcceb477d2992f1771af3a9b34</td>\n",
       "      <td>515cb969971fb5e08ae0316f58e3f434</td>\n",
       "      <td>ef38d906f15db1efde867c68f1336946</td>\n",
       "      <td>sneakers</td>\n",
       "      <td>desktop</td>\n",
       "      <td>2019-05-20 17:58:16</td>\n",
       "      <td>banner_show</td>\n",
       "      <td>0</td>\n",
       "    </tr>\n",
       "  </tbody>\n",
       "</table>\n",
       "</div>"
      ],
      "text/plain": [
       "        Unnamed: 0                          order_id  \\\n",
       "999904     5738290  ecfe9da2dbea255f05b2f526a4c663a7   \n",
       "999908     7885931  8c28b45ff7fbb5d5df0b7670183689db   \n",
       "999915     8099155  c613db2f19c7285f101196062c178490   \n",
       "999930     6690689  6f7f32ecf6790e4eb06384b479f43162   \n",
       "999999     7650805  af3a19fcceb477d2992f1771af3a9b34   \n",
       "\n",
       "                                 user_id                           page_id  \\\n",
       "999904  cd7598ba5798ad6bd3f5a667ae4c217a  644ad50dd900d6735d8ceb15b71d50f8   \n",
       "999908  2f28106a4db2babcfde1c4095c805632  a3d2de7675556553a5f08e4c88d2c228   \n",
       "999915  97473368941b89c4716c4f389e9b8bd7  a3d2de7675556553a5f08e4c88d2c228   \n",
       "999930  73f403b4843c70c41c0db294ee479582  13f395d7c86ef276f7ce52a557fd3491   \n",
       "999999  515cb969971fb5e08ae0316f58e3f434  ef38d906f15db1efde867c68f1336946   \n",
       "\n",
       "            product site_version                 time        title  target  \n",
       "999904  accessories      desktop  2019-05-01 23:01:05  banner_show       0  \n",
       "999908     sneakers      desktop  2019-05-26 11:19:09        order       1  \n",
       "999915     sneakers      desktop  2019-05-11 09:04:46        order       1  \n",
       "999930  accessories      desktop  2019-05-09 09:17:24  banner_show       0  \n",
       "999999     sneakers      desktop  2019-05-20 17:58:16  banner_show       0  "
      ]
     },
     "execution_count": 14,
     "metadata": {},
     "output_type": "execute_result"
    }
   ],
   "source": [
    "df_AB.tail()"
   ]
  },
  {
   "cell_type": "code",
   "execution_count": 20,
   "metadata": {},
   "outputs": [
    {
     "data": {
      "text/html": [
       "<div>\n",
       "<style scoped>\n",
       "    .dataframe tbody tr th:only-of-type {\n",
       "        vertical-align: middle;\n",
       "    }\n",
       "\n",
       "    .dataframe tbody tr th {\n",
       "        vertical-align: top;\n",
       "    }\n",
       "\n",
       "    .dataframe thead th {\n",
       "        text-align: right;\n",
       "    }\n",
       "</style>\n",
       "<table border=\"1\" class=\"dataframe\">\n",
       "  <thead>\n",
       "    <tr style=\"text-align: right;\">\n",
       "      <th></th>\n",
       "      <th>Unnamed: 0</th>\n",
       "      <th>order_id</th>\n",
       "      <th>user_id</th>\n",
       "      <th>page_id</th>\n",
       "      <th>product</th>\n",
       "      <th>site_version</th>\n",
       "      <th>time</th>\n",
       "      <th>title</th>\n",
       "      <th>target</th>\n",
       "    </tr>\n",
       "  </thead>\n",
       "  <tbody>\n",
       "    <tr>\n",
       "      <th>0</th>\n",
       "      <td>8064199</td>\n",
       "      <td>f909eb9bbf2795337dd38323b7951705</td>\n",
       "      <td>5a96585c3db94eb2ae40e559cbd2e164</td>\n",
       "      <td>94b6ea2316b773afa20925d9b79d5bf8</td>\n",
       "      <td>accessories</td>\n",
       "      <td>desktop</td>\n",
       "      <td>2019-05-19 09:26:29</td>\n",
       "      <td>banner_show</td>\n",
       "      <td>0</td>\n",
       "    </tr>\n",
       "    <tr>\n",
       "      <th>1</th>\n",
       "      <td>7560076</td>\n",
       "      <td>97808cfd3d44fa7e8cfeb71bb5f02590</td>\n",
       "      <td>1e2db5d01051fc65fffc6c27f34400a3</td>\n",
       "      <td>48c8e3f287d814493cff887ff445f535</td>\n",
       "      <td>sneakers</td>\n",
       "      <td>desktop</td>\n",
       "      <td>2019-05-03 05:34:46</td>\n",
       "      <td>banner_show</td>\n",
       "      <td>0</td>\n",
       "    </tr>\n",
       "    <tr>\n",
       "      <th>2</th>\n",
       "      <td>5923209</td>\n",
       "      <td>71c39cc2e2ede95a7ca296d4e3e56f85</td>\n",
       "      <td>46a6f13750d5032f366349e3e3171678</td>\n",
       "      <td>30559d0b23980e7a778c93c52ba5deca</td>\n",
       "      <td>sneakers</td>\n",
       "      <td>desktop</td>\n",
       "      <td>2019-05-19 05:04:32</td>\n",
       "      <td>banner_show</td>\n",
       "      <td>0</td>\n",
       "    </tr>\n",
       "    <tr>\n",
       "      <th>3</th>\n",
       "      <td>8161379</td>\n",
       "      <td>e969a575bcf5b10d6676c2fab9cbf784</td>\n",
       "      <td>aa77bca62e9a84f5cd8d734c70afd060</td>\n",
       "      <td>70ed6e66458fda7a3164e2633d81ea07</td>\n",
       "      <td>sneakers</td>\n",
       "      <td>desktop</td>\n",
       "      <td>2019-05-29 17:51:46</td>\n",
       "      <td>banner_show</td>\n",
       "      <td>0</td>\n",
       "    </tr>\n",
       "    <tr>\n",
       "      <th>4</th>\n",
       "      <td>4564531</td>\n",
       "      <td>3068b616fac2838de6a2d33a6fad60ad</td>\n",
       "      <td>aec8ee5450418b5bc97127c2269058ca</td>\n",
       "      <td>14cbe8cf92c259f5d18310347e3cb5cb</td>\n",
       "      <td>sneakers</td>\n",
       "      <td>desktop</td>\n",
       "      <td>2019-05-04 09:33:44</td>\n",
       "      <td>banner_show</td>\n",
       "      <td>0</td>\n",
       "    </tr>\n",
       "  </tbody>\n",
       "</table>\n",
       "</div>"
      ],
      "text/plain": [
       "   Unnamed: 0                          order_id  \\\n",
       "0     8064199  f909eb9bbf2795337dd38323b7951705   \n",
       "1     7560076  97808cfd3d44fa7e8cfeb71bb5f02590   \n",
       "2     5923209  71c39cc2e2ede95a7ca296d4e3e56f85   \n",
       "3     8161379  e969a575bcf5b10d6676c2fab9cbf784   \n",
       "4     4564531  3068b616fac2838de6a2d33a6fad60ad   \n",
       "\n",
       "                            user_id                           page_id  \\\n",
       "0  5a96585c3db94eb2ae40e559cbd2e164  94b6ea2316b773afa20925d9b79d5bf8   \n",
       "1  1e2db5d01051fc65fffc6c27f34400a3  48c8e3f287d814493cff887ff445f535   \n",
       "2  46a6f13750d5032f366349e3e3171678  30559d0b23980e7a778c93c52ba5deca   \n",
       "3  aa77bca62e9a84f5cd8d734c70afd060  70ed6e66458fda7a3164e2633d81ea07   \n",
       "4  aec8ee5450418b5bc97127c2269058ca  14cbe8cf92c259f5d18310347e3cb5cb   \n",
       "\n",
       "       product site_version                 time        title  target  \n",
       "0  accessories      desktop  2019-05-19 09:26:29  banner_show       0  \n",
       "1     sneakers      desktop  2019-05-03 05:34:46  banner_show       0  \n",
       "2     sneakers      desktop  2019-05-19 05:04:32  banner_show       0  \n",
       "3     sneakers      desktop  2019-05-29 17:51:46  banner_show       0  \n",
       "4     sneakers      desktop  2019-05-04 09:33:44  banner_show       0  "
      ]
     },
     "execution_count": 20,
     "metadata": {},
     "output_type": "execute_result"
    }
   ],
   "source": [
    "df_AB.reset_index(inplace=True, drop=True)\n",
    "df_AB.head()"
   ]
  },
  {
   "cell_type": "markdown",
   "metadata": {
    "heading_collapsed": true,
    "hidden": true
   },
   "source": [
    "### What Test Would Make Sense?"
   ]
  },
  {
   "cell_type": "markdown",
   "metadata": {
    "hidden": true
   },
   "source": [
    "Since we're comparing the frequency of conversions of customers who saw the \"sneakers\" banner against those who saw the \"accessories\" banner, we can use a $\\chi^2$ test.\n",
    "\n",
    "Note there are other hypothesis tests we can use but this should be fine since it should fit our criteria."
   ]
  },
  {
   "cell_type": "markdown",
   "metadata": {
    "heading_collapsed": true,
    "hidden": true
   },
   "source": [
    "### The Hypotheses"
   ]
  },
  {
   "cell_type": "markdown",
   "metadata": {
    "hidden": true
   },
   "source": [
    "$H_0$: Customers who saw the sneakers banner were no more or less likely to buy than customers who saw the accessories banner.\n",
    "\n",
    "$H_1$: Customers who saw the sneakers banner were more or less likely to buy than customers who saw the accessories banner."
   ]
  },
  {
   "cell_type": "markdown",
   "metadata": {
    "heading_collapsed": true,
    "hidden": true
   },
   "source": [
    "### Setting a Threshold"
   ]
  },
  {
   "cell_type": "markdown",
   "metadata": {
    "hidden": true
   },
   "source": [
    "We'll set a false-positive rate of $\\alpha = 0.05$."
   ]
  },
  {
   "cell_type": "markdown",
   "metadata": {
    "heading_collapsed": true,
    "hidden": true
   },
   "source": [
    "## $\\chi^2$ Test"
   ]
  },
  {
   "cell_type": "markdown",
   "metadata": {
    "heading_collapsed": true,
    "hidden": true
   },
   "source": [
    "### Setup the Data"
   ]
  },
  {
   "cell_type": "markdown",
   "metadata": {
    "hidden": true
   },
   "source": [
    "We need our contingency table: the numbers of people who did or did not submit orders, both for the accessories banner and the sneakers banner. "
   ]
  },
  {
   "cell_type": "code",
   "execution_count": 21,
   "metadata": {
    "hidden": true
   },
   "outputs": [],
   "source": [
    "df_A = df_AB[df_AB[\"product\"] == \"accessories\"]\n",
    "df_B = df_AB[df_AB[\"product\"] == \"sneakers\"]"
   ]
  },
  {
   "cell_type": "code",
   "execution_count": 23,
   "metadata": {
    "hidden": true
   },
   "outputs": [
    {
     "data": {
      "text/plain": [
       "(496, 799)"
      ]
     },
     "execution_count": 23,
     "metadata": {},
     "output_type": "execute_result"
    }
   ],
   "source": [
    "accessories_orders = df_A[\"target\"].sum()\n",
    "sneakers_orders = df_B[\"target\"].sum()\n",
    "\n",
    "accessories_orders, sneakers_orders"
   ]
  },
  {
   "cell_type": "markdown",
   "metadata": {
    "hidden": true
   },
   "source": [
    "To get the numbers of people who didn't submit orders, we get the total number of people who were shown banners and then subtract the numbers of people who did make orders."
   ]
  },
  {
   "cell_type": "code",
   "execution_count": 24,
   "metadata": {
    "hidden": true
   },
   "outputs": [
    {
     "data": {
      "text/plain": [
       "(12207, 12470)"
      ]
     },
     "execution_count": 24,
     "metadata": {},
     "output_type": "execute_result"
    }
   ],
   "source": [
    "accessories_total = len(df_A)\n",
    "sneakers_total = len(df_B)\n",
    "\n",
    "accessories_no_orders = accessories_total - accessories_orders\n",
    "sneakers_no_orders = sneakers_total - sneakers_orders\n",
    "\n",
    "accessories_no_orders, sneakers_no_orders"
   ]
  },
  {
   "cell_type": "code",
   "execution_count": 25,
   "metadata": {
    "hidden": true
   },
   "outputs": [
    {
     "data": {
      "text/plain": [
       "array([[  496, 12207],\n",
       "       [  799, 12470]], dtype=int64)"
      ]
     },
     "execution_count": 25,
     "metadata": {},
     "output_type": "execute_result"
    }
   ],
   "source": [
    "contingency_table = np.array([\n",
    "    (accessories_orders, accessories_no_orders), \n",
    "    (sneakers_orders, sneakers_no_orders)\n",
    "])\n",
    "\n",
    "contingency_table"
   ]
  },
  {
   "cell_type": "markdown",
   "metadata": {
    "heading_collapsed": true,
    "hidden": true
   },
   "source": [
    "### Calculation\n"
   ]
  },
  {
   "cell_type": "code",
   "execution_count": 26,
   "metadata": {
    "hidden": true,
    "scrolled": true
   },
   "outputs": [
    {
     "data": {
      "text/plain": [
       "(60.94640624666488,\n",
       " 5.86498985882812e-15,\n",
       " 1,\n",
       " array([[  633.38922686, 12069.61077314],\n",
       "        [  661.61077314, 12607.38922686]]))"
      ]
     },
     "execution_count": 26,
     "metadata": {},
     "output_type": "execute_result"
    }
   ],
   "source": [
    "stats.chi2_contingency(contingency_table)"
   ]
  },
  {
   "cell_type": "code",
   "execution_count": 33,
   "metadata": {
    "scrolled": true
   },
   "outputs": [
    {
     "data": {
      "text/plain": [
       "3.9045894670550267"
      ]
     },
     "execution_count": 33,
     "metadata": {},
     "output_type": "execute_result"
    }
   ],
   "source": [
    "(496/(12207+496)) *100"
   ]
  },
  {
   "cell_type": "code",
   "execution_count": 34,
   "metadata": {},
   "outputs": [
    {
     "data": {
      "text/plain": [
       "6.021553998040545"
      ]
     },
     "execution_count": 34,
     "metadata": {},
     "output_type": "execute_result"
    }
   ],
   "source": [
    "(799/(12470+799)) *100"
   ]
  },
  {
   "cell_type": "markdown",
   "metadata": {
    "hidden": true
   },
   "source": [
    "This extremely low $p$-value suggests that these two groups are genuinely performing differently. In particular, the desktop customers who saw the sneakers banner in May 2019 bought at a higher rate than the desktop customers who saw the accessories banner in May 2019."
   ]
  },
  {
   "cell_type": "markdown",
   "metadata": {
    "heading_collapsed": true,
    "hidden": true
   },
   "source": [
    "## Interpretation"
   ]
  },
  {
   "cell_type": "code",
   "execution_count": 30,
   "metadata": {
    "hidden": true
   },
   "outputs": [
    {
     "data": {
      "text/plain": [
       "array([[  496, 12207],\n",
       "       [  799, 12470]], dtype=int64)"
      ]
     },
     "execution_count": 30,
     "metadata": {},
     "output_type": "execute_result"
    }
   ],
   "source": [
    "contingency_table"
   ]
  },
  {
   "cell_type": "code",
   "execution_count": 31,
   "metadata": {
    "hidden": true
   },
   "outputs": [],
   "source": [
    "# Find the difference in conversion rate\n",
    "accessory_CR, sneaker_CR = contingency_table[:, 0] / contingency_table.sum(axis=1)"
   ]
  },
  {
   "cell_type": "code",
   "execution_count": 32,
   "metadata": {
    "hidden": true
   },
   "outputs": [
    {
     "name": "stdout",
     "output_type": "stream",
     "text": [
      "Conversion Rate for accessory banner:\n",
      "\t3.905%\n",
      "Conversion Rate for sneaker banner:\n",
      "\t6.022%\n",
      "\n",
      "Absolute difference of CR: 2.117%\n"
     ]
    }
   ],
   "source": [
    "print(f'Conversion Rate for accessory banner:\\n\\t{100*accessory_CR:.3f}%')\n",
    "print(f'Conversion Rate for sneaker banner:\\n\\t{100*sneaker_CR:.3f}%')\n",
    "print('')\n",
    "print(f'Absolute difference of CR: {100*(sneaker_CR-accessory_CR):.3f}%')"
   ]
  },
  {
   "cell_type": "markdown",
   "metadata": {
    "hidden": true
   },
   "source": [
    "So we can say:\n",
    "- There was a statistically significant difference at the $\\alpha$-level (confidence level)\n",
    "- The difference was about $2.3\\%$ in favor of the sneaker banner!"
   ]
  },
  {
   "cell_type": "markdown",
   "metadata": {
    "heading_collapsed": true
   },
   "source": [
    "# Exercise"
   ]
  },
  {
   "cell_type": "markdown",
   "metadata": {
    "hidden": true
   },
   "source": [
    "> The company is impressed with what you found and is now wondering if there is a difference in their other banner ads!\n",
    "\n",
    "With your group, look at the same month (May 2019) but compare different platforms ('mobile' vs 'desktop') and or different banner types ('accessories', 'sneakers', 'clothes', 'sports_nutrition'). Just don't repeat the same test we did above 😉"
   ]
  },
  {
   "cell_type": "markdown",
   "metadata": {
    "hidden": true
   },
   "source": [
    "Make sure you record what considerations you have for the experiment, what hypothesis test you performed ($H_0$ and $H_1$ too), and your overall conclusion/interpretation for the _business stakeholders_. Is there a follow-up you'd suggest? "
   ]
  },
  {
   "cell_type": "markdown",
   "metadata": {},
   "source": [
    "We'll be comparing the rate of conversion for users being shown the clothes banner on mobile and desktop.\n",
    "\n",
    "Null hypothesis: There is no difference in the rate of conversion between customers on mobile and those on desktop.\n",
    "\n",
    "Alternate hypothesis: There is a difference in the rate of conversion between customers on mobile and those on desktop."
   ]
  },
  {
   "cell_type": "code",
   "execution_count": 56,
   "metadata": {},
   "outputs": [],
   "source": [
    "df_CD = df.loc[(df[\"time\"] >= \"2019-05-01\")&\n",
    "               (df[\"product\"] == \"clothes\")]"
   ]
  },
  {
   "cell_type": "code",
   "execution_count": 57,
   "metadata": {},
   "outputs": [
    {
     "data": {
      "text/html": [
       "<div>\n",
       "<style scoped>\n",
       "    .dataframe tbody tr th:only-of-type {\n",
       "        vertical-align: middle;\n",
       "    }\n",
       "\n",
       "    .dataframe tbody tr th {\n",
       "        vertical-align: top;\n",
       "    }\n",
       "\n",
       "    .dataframe thead th {\n",
       "        text-align: right;\n",
       "    }\n",
       "</style>\n",
       "<table border=\"1\" class=\"dataframe\">\n",
       "  <thead>\n",
       "    <tr style=\"text-align: right;\">\n",
       "      <th></th>\n",
       "      <th>Unnamed: 0</th>\n",
       "      <th>order_id</th>\n",
       "      <th>user_id</th>\n",
       "      <th>page_id</th>\n",
       "      <th>product</th>\n",
       "      <th>site_version</th>\n",
       "      <th>time</th>\n",
       "      <th>title</th>\n",
       "      <th>target</th>\n",
       "    </tr>\n",
       "  </thead>\n",
       "  <tbody>\n",
       "    <tr>\n",
       "      <th>999912</th>\n",
       "      <td>7388929</td>\n",
       "      <td>15a6cd15be985ca310f0f4fe6c186797</td>\n",
       "      <td>d768f6cb066ec4cfeb92af62f1334024</td>\n",
       "      <td>20fff09ee00464f11e56082e039c5f0d</td>\n",
       "      <td>clothes</td>\n",
       "      <td>mobile</td>\n",
       "      <td>2019-05-11 21:13:12</td>\n",
       "      <td>banner_show</td>\n",
       "      <td>0</td>\n",
       "    </tr>\n",
       "    <tr>\n",
       "      <th>999942</th>\n",
       "      <td>4124938</td>\n",
       "      <td>a6f8a9e42a4616165fae23fd7ad5bdb5</td>\n",
       "      <td>6fac446b7ead4f50c721d721f86ea28d</td>\n",
       "      <td>7a91c100705e3f21706251c980796af1</td>\n",
       "      <td>clothes</td>\n",
       "      <td>mobile</td>\n",
       "      <td>2019-05-23 21:57:00</td>\n",
       "      <td>banner_show</td>\n",
       "      <td>0</td>\n",
       "    </tr>\n",
       "    <tr>\n",
       "      <th>999951</th>\n",
       "      <td>7160307</td>\n",
       "      <td>dbd36203dbf0aaee2c41920bb133294e</td>\n",
       "      <td>445485262fa191919fcf10829cd6e269</td>\n",
       "      <td>c47aaf1a1f20741c20d3a7a1597a776f</td>\n",
       "      <td>clothes</td>\n",
       "      <td>desktop</td>\n",
       "      <td>2019-05-03 14:08:53</td>\n",
       "      <td>banner_show</td>\n",
       "      <td>0</td>\n",
       "    </tr>\n",
       "    <tr>\n",
       "      <th>999969</th>\n",
       "      <td>1305114</td>\n",
       "      <td>81a675ab9565e80aa4dcb65c1d12eb30</td>\n",
       "      <td>6c6604560d13cfd00453dc0623b39a17</td>\n",
       "      <td>063ac2781d3efff273b3f73ab7478c94</td>\n",
       "      <td>clothes</td>\n",
       "      <td>mobile</td>\n",
       "      <td>2019-05-03 13:33:53</td>\n",
       "      <td>banner_show</td>\n",
       "      <td>0</td>\n",
       "    </tr>\n",
       "    <tr>\n",
       "      <th>999992</th>\n",
       "      <td>7735711</td>\n",
       "      <td>c40020044e86083b53c48ec23b1eda2a</td>\n",
       "      <td>fbb6f9203a0845ab8a824855582059c3</td>\n",
       "      <td>eeae53a3fe2725c7e1d57abed2b116cb</td>\n",
       "      <td>clothes</td>\n",
       "      <td>desktop</td>\n",
       "      <td>2019-05-02 16:00:12</td>\n",
       "      <td>banner_show</td>\n",
       "      <td>0</td>\n",
       "    </tr>\n",
       "  </tbody>\n",
       "</table>\n",
       "</div>"
      ],
      "text/plain": [
       "        Unnamed: 0                          order_id  \\\n",
       "999912     7388929  15a6cd15be985ca310f0f4fe6c186797   \n",
       "999942     4124938  a6f8a9e42a4616165fae23fd7ad5bdb5   \n",
       "999951     7160307  dbd36203dbf0aaee2c41920bb133294e   \n",
       "999969     1305114  81a675ab9565e80aa4dcb65c1d12eb30   \n",
       "999992     7735711  c40020044e86083b53c48ec23b1eda2a   \n",
       "\n",
       "                                 user_id                           page_id  \\\n",
       "999912  d768f6cb066ec4cfeb92af62f1334024  20fff09ee00464f11e56082e039c5f0d   \n",
       "999942  6fac446b7ead4f50c721d721f86ea28d  7a91c100705e3f21706251c980796af1   \n",
       "999951  445485262fa191919fcf10829cd6e269  c47aaf1a1f20741c20d3a7a1597a776f   \n",
       "999969  6c6604560d13cfd00453dc0623b39a17  063ac2781d3efff273b3f73ab7478c94   \n",
       "999992  fbb6f9203a0845ab8a824855582059c3  eeae53a3fe2725c7e1d57abed2b116cb   \n",
       "\n",
       "        product site_version                 time        title  target  \n",
       "999912  clothes       mobile  2019-05-11 21:13:12  banner_show       0  \n",
       "999942  clothes       mobile  2019-05-23 21:57:00  banner_show       0  \n",
       "999951  clothes      desktop  2019-05-03 14:08:53  banner_show       0  \n",
       "999969  clothes       mobile  2019-05-03 13:33:53  banner_show       0  \n",
       "999992  clothes      desktop  2019-05-02 16:00:12  banner_show       0  "
      ]
     },
     "execution_count": 57,
     "metadata": {},
     "output_type": "execute_result"
    }
   ],
   "source": [
    "df_CD.tail()"
   ]
  },
  {
   "cell_type": "code",
   "execution_count": 58,
   "metadata": {},
   "outputs": [
    {
     "data": {
      "text/html": [
       "<div>\n",
       "<style scoped>\n",
       "    .dataframe tbody tr th:only-of-type {\n",
       "        vertical-align: middle;\n",
       "    }\n",
       "\n",
       "    .dataframe tbody tr th {\n",
       "        vertical-align: top;\n",
       "    }\n",
       "\n",
       "    .dataframe thead th {\n",
       "        text-align: right;\n",
       "    }\n",
       "</style>\n",
       "<table border=\"1\" class=\"dataframe\">\n",
       "  <thead>\n",
       "    <tr style=\"text-align: right;\">\n",
       "      <th></th>\n",
       "      <th>Unnamed: 0</th>\n",
       "      <th>order_id</th>\n",
       "      <th>user_id</th>\n",
       "      <th>page_id</th>\n",
       "      <th>product</th>\n",
       "      <th>site_version</th>\n",
       "      <th>time</th>\n",
       "      <th>title</th>\n",
       "      <th>target</th>\n",
       "    </tr>\n",
       "  </thead>\n",
       "  <tbody>\n",
       "    <tr>\n",
       "      <th>0</th>\n",
       "      <td>4880034</td>\n",
       "      <td>c59e23bca9e3e74b76e5c89591920741</td>\n",
       "      <td>885540374a1549d83561b2a40313ff2e</td>\n",
       "      <td>503567af06c98967c3cc1b97886f9a36</td>\n",
       "      <td>clothes</td>\n",
       "      <td>desktop</td>\n",
       "      <td>2019-05-15 13:40:11</td>\n",
       "      <td>banner_show</td>\n",
       "      <td>0</td>\n",
       "    </tr>\n",
       "    <tr>\n",
       "      <th>1</th>\n",
       "      <td>8379527</td>\n",
       "      <td>16588be9bc5d4ef211d476e2fbadecc0</td>\n",
       "      <td>b77361f8d06dd11a741b5cd01ac23240</td>\n",
       "      <td>2b1fe1e4b63d6aadf4c0cf6df57b63a3</td>\n",
       "      <td>clothes</td>\n",
       "      <td>mobile</td>\n",
       "      <td>2019-05-22 06:35:18</td>\n",
       "      <td>banner_show</td>\n",
       "      <td>0</td>\n",
       "    </tr>\n",
       "    <tr>\n",
       "      <th>2</th>\n",
       "      <td>4557894</td>\n",
       "      <td>7d5030b43301e95bfea4e385adb3c743</td>\n",
       "      <td>f762f683aed8ab7da658d3327c0ad5f5</td>\n",
       "      <td>1f9783835a15e665aff7e554ea10345e</td>\n",
       "      <td>clothes</td>\n",
       "      <td>mobile</td>\n",
       "      <td>2019-05-08 06:37:21</td>\n",
       "      <td>banner_show</td>\n",
       "      <td>0</td>\n",
       "    </tr>\n",
       "    <tr>\n",
       "      <th>3</th>\n",
       "      <td>8260648</td>\n",
       "      <td>51710dbb886eb764cc3b41cf4f1aa461</td>\n",
       "      <td>098cee69703432819be7a116c831171c</td>\n",
       "      <td>05547166b01902fa7456641630405846</td>\n",
       "      <td>clothes</td>\n",
       "      <td>mobile</td>\n",
       "      <td>2019-05-31 16:38:01</td>\n",
       "      <td>banner_show</td>\n",
       "      <td>0</td>\n",
       "    </tr>\n",
       "    <tr>\n",
       "      <th>4</th>\n",
       "      <td>8019572</td>\n",
       "      <td>46b3310f44d98c5b5e0296dcfee0f408</td>\n",
       "      <td>6064af9e55908bd0e014d3dd20a44ee0</td>\n",
       "      <td>2c6993d9c5c7986d27ddfb6765bce9fb</td>\n",
       "      <td>clothes</td>\n",
       "      <td>mobile</td>\n",
       "      <td>2019-05-27 06:16:13</td>\n",
       "      <td>banner_show</td>\n",
       "      <td>0</td>\n",
       "    </tr>\n",
       "  </tbody>\n",
       "</table>\n",
       "</div>"
      ],
      "text/plain": [
       "   Unnamed: 0                          order_id  \\\n",
       "0     4880034  c59e23bca9e3e74b76e5c89591920741   \n",
       "1     8379527  16588be9bc5d4ef211d476e2fbadecc0   \n",
       "2     4557894  7d5030b43301e95bfea4e385adb3c743   \n",
       "3     8260648  51710dbb886eb764cc3b41cf4f1aa461   \n",
       "4     8019572  46b3310f44d98c5b5e0296dcfee0f408   \n",
       "\n",
       "                            user_id                           page_id  \\\n",
       "0  885540374a1549d83561b2a40313ff2e  503567af06c98967c3cc1b97886f9a36   \n",
       "1  b77361f8d06dd11a741b5cd01ac23240  2b1fe1e4b63d6aadf4c0cf6df57b63a3   \n",
       "2  f762f683aed8ab7da658d3327c0ad5f5  1f9783835a15e665aff7e554ea10345e   \n",
       "3  098cee69703432819be7a116c831171c  05547166b01902fa7456641630405846   \n",
       "4  6064af9e55908bd0e014d3dd20a44ee0  2c6993d9c5c7986d27ddfb6765bce9fb   \n",
       "\n",
       "   product site_version                 time        title  target  \n",
       "0  clothes      desktop  2019-05-15 13:40:11  banner_show       0  \n",
       "1  clothes       mobile  2019-05-22 06:35:18  banner_show       0  \n",
       "2  clothes       mobile  2019-05-08 06:37:21  banner_show       0  \n",
       "3  clothes       mobile  2019-05-31 16:38:01  banner_show       0  \n",
       "4  clothes       mobile  2019-05-27 06:16:13  banner_show       0  "
      ]
     },
     "execution_count": 58,
     "metadata": {},
     "output_type": "execute_result"
    }
   ],
   "source": [
    "df_CD.reset_index(inplace=True, drop=True)\n",
    "df_CD.head()"
   ]
  },
  {
   "cell_type": "code",
   "execution_count": 59,
   "metadata": {},
   "outputs": [
    {
     "name": "stderr",
     "output_type": "stream",
     "text": [
      "<ipython-input-59-09e6211482c7>:1: UserWarning: Boolean Series key will be reindexed to match DataFrame index.\n",
      "  df_C = df_CD[df[\"site_version\"] == \"mobile\"]\n",
      "<ipython-input-59-09e6211482c7>:2: UserWarning: Boolean Series key will be reindexed to match DataFrame index.\n",
      "  df_D = df_CD[df[\"site_version\"] == \"desktop\"]\n"
     ]
    }
   ],
   "source": [
    "df_C = df_CD[df[\"site_version\"] == \"mobile\"]\n",
    "df_D = df_CD[df[\"site_version\"] == \"desktop\"]"
   ]
  },
  {
   "cell_type": "code",
   "execution_count": 64,
   "metadata": {},
   "outputs": [
    {
     "data": {
      "text/plain": [
       "(1945, 758)"
      ]
     },
     "execution_count": 64,
     "metadata": {},
     "output_type": "execute_result"
    }
   ],
   "source": [
    "mobile_sales = df_C[\"target\"].sum()\n",
    "desktop_sales = df_D[\"target\"].sum()\n",
    "mobile_sales, desktop_sales"
   ]
  },
  {
   "cell_type": "code",
   "execution_count": 65,
   "metadata": {},
   "outputs": [],
   "source": [
    "mobile_total = len(df_C)\n",
    "desktop_total = len(df_D)\n",
    "\n",
    "mobile_no_order = mobile_total - mobile_sales\n",
    "desktop_no_order = desktop_total - desktop_sales"
   ]
  },
  {
   "cell_type": "code",
   "execution_count": 66,
   "metadata": {},
   "outputs": [
    {
     "data": {
      "text/plain": [
       "array([[ 1945, 36469],\n",
       "       [  758, 14279]], dtype=int64)"
      ]
     },
     "execution_count": 66,
     "metadata": {},
     "output_type": "execute_result"
    }
   ],
   "source": [
    "contigency_table2 = np.array([\n",
    "    (mobile_sales, mobile_no_order),\n",
    "    (desktop_sales, desktop_no_order)\n",
    "])\n",
    "contigency_table2"
   ]
  },
  {
   "cell_type": "code",
   "execution_count": 68,
   "metadata": {},
   "outputs": [
    {
     "data": {
      "text/plain": [
       "(0.007077392339641277,\n",
       " 0.9329552678257845,\n",
       " 1,\n",
       " array([[ 1942.58371218, 36471.41628782],\n",
       "        [  760.41628782, 14276.58371218]]))"
      ]
     },
     "execution_count": 68,
     "metadata": {},
     "output_type": "execute_result"
    }
   ],
   "source": [
    "stats.chi2_contingency(contigency_table2)"
   ]
  },
  {
   "cell_type": "markdown",
   "metadata": {},
   "source": [
    "With a p-value of .93, we cannot refute the null hypothesis or prove correlation between desktop/mobile and rate of conversion."
   ]
  }
 ],
 "metadata": {
  "kernelspec": {
   "display_name": "Python 3",
   "language": "python",
   "name": "python3"
  },
  "language_info": {
   "codemirror_mode": {
    "name": "ipython",
    "version": 3
   },
   "file_extension": ".py",
   "mimetype": "text/x-python",
   "name": "python",
   "nbconvert_exporter": "python",
   "pygments_lexer": "ipython3",
   "version": "3.8.5"
  },
  "toc": {
   "base_numbering": 1,
   "nav_menu": {},
   "number_sections": true,
   "sideBar": true,
   "skip_h1_title": false,
   "title_cell": "Table of Contents",
   "title_sidebar": "TOC",
   "toc_cell": true,
   "toc_position": {
    "height": "calc(100% - 180px)",
    "left": "10px",
    "top": "150px",
    "width": "288px"
   },
   "toc_section_display": true,
   "toc_window_display": true
  }
 },
 "nbformat": 4,
 "nbformat_minor": 4
}
